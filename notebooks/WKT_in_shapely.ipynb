{
 "cells": [
  {
   "cell_type": "markdown",
   "metadata": {},
   "source": [
    "# 🤔 Well Known Text (WKT) 🤔"
   ]
  },
  {
   "cell_type": "markdown",
   "metadata": {},
   "source": [
    "- Well Known Text (WKT) is a way of describing GIS features\n",
    "- Widely used and handy to know when you want to make some features\n",
    "- `shapely` uses WKT in the `_str_` attribute to describe the object\n",
    "- The most common types you will see are:\n",
    "  - `POINT`\n",
    "  - `LINESTRING`\n",
    "  - `POLYGON`\n",
    "  - `MULTIPOLYGON` (⚠️ spicy danger zone ⚠️)\n",
    "- Note the abscence of commas between the x and y component of a point.\n",
    "  - I guarantee this will trip you up."
   ]
  },
  {
   "cell_type": "code",
   "execution_count": 7,
   "metadata": {},
   "outputs": [
    {
     "name": "stdout",
     "output_type": "stream",
     "text": [
      "POINT (115.86177974800012 -31.95857578899995)\n",
      "\n",
      "LINESTRING (115.8476872 -31.9623401, 115.8479073 -31.9623057, 115.8481191 -31.9622473, 115.8483477 - ... \n",
      "\n",
      "POLYGON ((115.81190154743163 -31.986806240346443, 115.81190154743163 -31.926406689649802, 115.908497 ... \n",
      "\n",
      "MULTIPOLYGON (((115.83322609700008 -31.934703017999936, 115.83306648500002 -31.934688647999963, 115. ... \n"
     ]
    }
   ],
   "source": [
    "import geopandas as gpd\n",
    "\n",
    "extents = gpd.read_file(\"./../data/extents.gpkg\")\n",
    "city_trees = gpd.read_file('./../data/Trees_in_the_City.geojson')\n",
    "cycleways = gpd.read_file('./../data/highway_cycleway_osm.gpkg')\n",
    "urban_forest = gpd.read_file(\"./../data/urban_forest_mesh_2020_clipped_city.gpkg\")\n",
    "\n",
    "print(\n",
    "    str(city_trees.head(1).geometry.values[0])\n",
    "    ,str(cycleways.head(1).geometry.values[0])[0:100]       + \" ... \"\n",
    "    ,str(extents.head(1).geometry.values[0])[0:100]         + \" ... \"\n",
    "    ,str(urban_forest.head(1).geometry.values[0])[0:100]    + \" ... \"\n",
    "    ,sep=\"\\n\\n\"\n",
    ")"
   ]
  },
  {
   "cell_type": "markdown",
   "metadata": {},
   "source": [
    "### These is a useful WKT plugin in QGIS. Called `QuickWKT`."
   ]
  },
  {
   "cell_type": "code",
   "execution_count": null,
   "metadata": {},
   "outputs": [],
   "source": []
  }
 ],
 "metadata": {
  "kernelspec": {
   "display_name": "base",
   "language": "python",
   "name": "python3"
  },
  "language_info": {
   "codemirror_mode": {
    "name": "ipython",
    "version": 3
   },
   "file_extension": ".py",
   "mimetype": "text/x-python",
   "name": "python",
   "nbconvert_exporter": "python",
   "pygments_lexer": "ipython3",
   "version": "3.11.5"
  }
 },
 "nbformat": 4,
 "nbformat_minor": 2
}
